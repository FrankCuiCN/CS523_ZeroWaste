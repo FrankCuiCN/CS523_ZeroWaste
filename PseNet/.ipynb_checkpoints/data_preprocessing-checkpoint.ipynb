{
 "cells": [
  {
   "cell_type": "code",
   "execution_count": null,
   "metadata": {
    "colab": {
     "base_uri": "https://localhost:8080/"
    },
    "id": "zuSxMEY08dDB",
    "outputId": "d4d2ab14-cd96-493d-f6bb-a421d0701a4a"
   },
   "outputs": [
    {
     "name": "stdout",
     "output_type": "stream",
     "text": [
      "\u001b[?25l\r",
      "\u001b[K     |▌                               | 10 kB 21.0 MB/s eta 0:00:01\r",
      "\u001b[K     |█                               | 20 kB 27.0 MB/s eta 0:00:01\r",
      "\u001b[K     |█▋                              | 30 kB 31.2 MB/s eta 0:00:01\r",
      "\u001b[K     |██▏                             | 40 kB 35.1 MB/s eta 0:00:01\r",
      "\u001b[K     |██▊                             | 51 kB 26.1 MB/s eta 0:00:01\r",
      "\u001b[K     |███▎                            | 61 kB 29.5 MB/s eta 0:00:01\r",
      "\u001b[K     |███▉                            | 71 kB 27.5 MB/s eta 0:00:01\r",
      "\u001b[K     |████▍                           | 81 kB 24.1 MB/s eta 0:00:01\r",
      "\u001b[K     |████▉                           | 92 kB 25.9 MB/s eta 0:00:01\r",
      "\u001b[K     |█████▍                          | 102 kB 28.0 MB/s eta 0:00:01\r",
      "\u001b[K     |██████                          | 112 kB 28.0 MB/s eta 0:00:01\r",
      "\u001b[K     |██████▌                         | 122 kB 28.0 MB/s eta 0:00:01\r",
      "\u001b[K     |███████                         | 133 kB 28.0 MB/s eta 0:00:01\r",
      "\u001b[K     |███████▋                        | 143 kB 28.0 MB/s eta 0:00:01\r",
      "\u001b[K     |████████▏                       | 153 kB 28.0 MB/s eta 0:00:01\r",
      "\u001b[K     |████████▊                       | 163 kB 28.0 MB/s eta 0:00:01\r",
      "\u001b[K     |█████████▎                      | 174 kB 28.0 MB/s eta 0:00:01\r",
      "\u001b[K     |█████████▊                      | 184 kB 28.0 MB/s eta 0:00:01\r",
      "\u001b[K     |██████████▎                     | 194 kB 28.0 MB/s eta 0:00:01\r",
      "\u001b[K     |██████████▉                     | 204 kB 28.0 MB/s eta 0:00:01\r",
      "\u001b[K     |███████████▍                    | 215 kB 28.0 MB/s eta 0:00:01\r",
      "\u001b[K     |████████████                    | 225 kB 28.0 MB/s eta 0:00:01\r",
      "\u001b[K     |████████████▌                   | 235 kB 28.0 MB/s eta 0:00:01\r",
      "\u001b[K     |█████████████                   | 245 kB 28.0 MB/s eta 0:00:01\r",
      "\u001b[K     |█████████████▋                  | 256 kB 28.0 MB/s eta 0:00:01\r",
      "\u001b[K     |██████████████▏                 | 266 kB 28.0 MB/s eta 0:00:01\r",
      "\u001b[K     |██████████████▋                 | 276 kB 28.0 MB/s eta 0:00:01\r",
      "\u001b[K     |███████████████▏                | 286 kB 28.0 MB/s eta 0:00:01\r",
      "\u001b[K     |███████████████▊                | 296 kB 28.0 MB/s eta 0:00:01\r",
      "\u001b[K     |████████████████▎               | 307 kB 28.0 MB/s eta 0:00:01\r",
      "\u001b[K     |████████████████▉               | 317 kB 28.0 MB/s eta 0:00:01\r",
      "\u001b[K     |█████████████████▍              | 327 kB 28.0 MB/s eta 0:00:01\r",
      "\u001b[K     |██████████████████              | 337 kB 28.0 MB/s eta 0:00:01\r",
      "\u001b[K     |██████████████████▌             | 348 kB 28.0 MB/s eta 0:00:01\r",
      "\u001b[K     |███████████████████             | 358 kB 28.0 MB/s eta 0:00:01\r",
      "\u001b[K     |███████████████████▌            | 368 kB 28.0 MB/s eta 0:00:01\r",
      "\u001b[K     |████████████████████            | 378 kB 28.0 MB/s eta 0:00:01\r",
      "\u001b[K     |████████████████████▋           | 389 kB 28.0 MB/s eta 0:00:01\r",
      "\u001b[K     |█████████████████████▏          | 399 kB 28.0 MB/s eta 0:00:01\r",
      "\u001b[K     |█████████████████████▊          | 409 kB 28.0 MB/s eta 0:00:01\r",
      "\u001b[K     |██████████████████████▎         | 419 kB 28.0 MB/s eta 0:00:01\r",
      "\u001b[K     |██████████████████████▉         | 430 kB 28.0 MB/s eta 0:00:01\r",
      "\u001b[K     |███████████████████████▍        | 440 kB 28.0 MB/s eta 0:00:01\r",
      "\u001b[K     |████████████████████████        | 450 kB 28.0 MB/s eta 0:00:01\r",
      "\u001b[K     |████████████████████████▍       | 460 kB 28.0 MB/s eta 0:00:01\r",
      "\u001b[K     |█████████████████████████       | 471 kB 28.0 MB/s eta 0:00:01\r",
      "\u001b[K     |█████████████████████████▌      | 481 kB 28.0 MB/s eta 0:00:01\r",
      "\u001b[K     |██████████████████████████      | 491 kB 28.0 MB/s eta 0:00:01\r",
      "\u001b[K     |██████████████████████████▋     | 501 kB 28.0 MB/s eta 0:00:01\r",
      "\u001b[K     |███████████████████████████▏    | 512 kB 28.0 MB/s eta 0:00:01\r",
      "\u001b[K     |███████████████████████████▊    | 522 kB 28.0 MB/s eta 0:00:01\r",
      "\u001b[K     |████████████████████████████▎   | 532 kB 28.0 MB/s eta 0:00:01\r",
      "\u001b[K     |████████████████████████████▊   | 542 kB 28.0 MB/s eta 0:00:01\r",
      "\u001b[K     |█████████████████████████████▎  | 552 kB 28.0 MB/s eta 0:00:01\r",
      "\u001b[K     |█████████████████████████████▉  | 563 kB 28.0 MB/s eta 0:00:01\r",
      "\u001b[K     |██████████████████████████████▍ | 573 kB 28.0 MB/s eta 0:00:01\r",
      "\u001b[K     |███████████████████████████████ | 583 kB 28.0 MB/s eta 0:00:01\r",
      "\u001b[K     |███████████████████████████████▌| 593 kB 28.0 MB/s eta 0:00:01\r",
      "\u001b[K     |████████████████████████████████| 603 kB 28.0 MB/s \n",
      "\u001b[?25h  Building wheel for Polygon3 (setup.py) ... \u001b[?25l\u001b[?25hdone\n"
     ]
    }
   ],
   "source": [
    "!pip install -q pyclipper\n",
    "!pip install -q Polygon3"
   ]
  },
  {
   "cell_type": "code",
   "execution_count": null,
   "metadata": {
    "id": "XZXnYaX01dep"
   },
   "outputs": [],
   "source": [
    "!cp \"./drive/MyDrive/shared/zerowaste-f-final.zip\" ./\n",
    "!unzip -q \"./zerowaste-f-final.zip\"\n",
    "\n",
    "import os\n",
    "os.mkdir(\"./images\")\n",
    "os.mkdir(\"./labels\")"
   ]
  },
  {
   "cell_type": "code",
   "execution_count": null,
   "metadata": {
    "id": "rVNnqIJp2pxE"
   },
   "outputs": [],
   "source": [
    "import os\n",
    "import numpy as np\n",
    "import cv2\n",
    "import json\n",
    "import random\n",
    "import matplotlib.pyplot as plt\n",
    "import Polygon as plg\n",
    "import pyclipper\n",
    "\n",
    "from PIL import Image\n",
    "\n",
    "\n",
    "# set plot size\n",
    "def set_plot_size(name):\n",
    "    # (w, h)\n",
    "    if name == \"wide\":\n",
    "        plt.rcParams[\"figure.figsize\"] = (30, 4)\n",
    "        return\n",
    "    if name == \"big\":\n",
    "        plt.rcParams[\"figure.figsize\"] = (30, 10)  # (w, h)\n",
    "        return\n",
    "    plt.rcParams[\"figure.figsize\"] = (6, 4)  # normal\n",
    "\n",
    "\n",
    "# ----- #\n",
    "# from PSENet\n",
    "# ----- #\n",
    "def dist(a, b):\n",
    "    return np.linalg.norm((a - b), ord=2, axis=0)\n",
    "\n",
    "\n",
    "def perimeter(bbox):\n",
    "    peri = 0.0\n",
    "    for i in range(bbox.shape[0]):\n",
    "        peri += dist(bbox[i], bbox[(i + 1) % bbox.shape[0]])\n",
    "    return peri\n",
    "\n",
    "\n",
    "def shrink(bboxes, rate, max_shr=40):\n",
    "    rate = rate * rate\n",
    "    shrinked_bboxes = []\n",
    "    for bbox in bboxes:\n",
    "        area = plg.Polygon(bbox).area()\n",
    "        peri = perimeter(bbox)\n",
    "\n",
    "        try:\n",
    "            pco = pyclipper.PyclipperOffset()\n",
    "            pco.AddPath(bbox, pyclipper.JT_ROUND, pyclipper.ET_CLOSEDPOLYGON)\n",
    "            offset = min(int(area * (1 - rate) / (peri + 0.001) + 0.5), max_shr)\n",
    "\n",
    "            shrinked_bbox = pco.Execute(-offset)\n",
    "            if len(shrinked_bbox) == 0:\n",
    "                shrinked_bboxes.append(bbox)\n",
    "                continue\n",
    "\n",
    "            shrinked_bbox = np.array(shrinked_bbox[0])\n",
    "            if shrinked_bbox.shape[0] <= 2:\n",
    "                shrinked_bboxes.append(bbox)\n",
    "                continue\n",
    "\n",
    "            shrinked_bboxes.append(shrinked_bbox)\n",
    "        except Exception as e:\n",
    "            print('area:', area, 'peri:', peri)\n",
    "            shrinked_bboxes.append(bbox)\n",
    "\n",
    "    return shrinked_bboxes"
   ]
  },
  {
   "cell_type": "code",
   "execution_count": null,
   "metadata": {
    "id": "1_j3BbaY-v4t"
   },
   "outputs": [],
   "source": [
    "# ----- #\n",
    "# get data_dict_all\n",
    "# ----- #\n",
    "def json2dict(path):\n",
    "    with open(path) as f:\n",
    "        return json.load(f)\n",
    "     \n",
    "        \n",
    "labels_train = json2dict(\"./splits_final_deblurred/train/labels.json\")\n",
    "\n",
    "img_all = labels_train[\"images\"]\n",
    "anno_raw = labels_train[\"annotations\"]\n",
    "anno_all = [list() for idx in range(3002)]\n",
    "\n",
    "for idx in range(len(anno_raw)):\n",
    "    tmp = anno_raw[idx]\n",
    "    idx_img = tmp[\"image_id\"]\n",
    "    anno_all[idx_img].append(tmp)\n",
    "\n",
    "\n",
    "def get_zerowaste_dicts():\n",
    "    dataset_dicts = []\n",
    "    for idx0 in range(len(img_all)):\n",
    "        record = dict()\n",
    "        tmp = img_all[idx0]\n",
    "        record[\"file_name\"] = os.path.join(\"./splits_final_deblurred/train/data\", tmp[\"file_name\"])\n",
    "        record[\"image_id\"] = tmp[\"id\"]\n",
    "        record[\"width\"] = tmp[\"width\"]\n",
    "        record[\"height\"] = tmp[\"height\"]\n",
    "        \n",
    "        tmp_tmp = anno_all[idx0]\n",
    "        objs = list()\n",
    "        for item in tmp_tmp:\n",
    "            obj = dict()\n",
    "            obj[\"bbox\"] = item[\"bbox\"]\n",
    "            obj[\"bbox_mode\"] = \"XYWH_ABS\"\n",
    "            obj[\"segmentation\"] = item[\"segmentation\"]\n",
    "            obj[\"category_id\"] = item[\"category_id\"] - 1\n",
    "            objs.append(obj)\n",
    "        record[\"annotations\"] = objs\n",
    "        dataset_dicts.append(record)\n",
    "    return dataset_dicts\n",
    "\n",
    "\n",
    "data_dict_all = get_zerowaste_dicts()"
   ]
  },
  {
   "cell_type": "code",
   "execution_count": null,
   "metadata": {
    "id": "zofvE3Fv3npP"
   },
   "outputs": [],
   "source": [
    "def label_generation_operation_1(data_dict_all, idx):\n",
    "    data_dict = data_dict_all[idx]\n",
    "    anno_all = data_dict[\"annotations\"]\n",
    "\n",
    "    canvas = np.zeros((1080, 1920, 3), dtype=\"float32\")\n",
    "    for counter, anno in enumerate(anno_all):\n",
    "        contours = anno[\"segmentation\"][0]\n",
    "        contours = np.array(contours).reshape((-1, 2))\n",
    "        contours = np.round(contours).astype(\"int32\")\n",
    "        contours = [contours]   \n",
    "\n",
    "        category_id = anno[\"category_id\"]     \n",
    "\n",
    "        # 0\n",
    "        canvas[..., 0] = cv2.drawContours(canvas[..., 0].copy(), contours, 0, category_id + 1, -1)\n",
    "\n",
    "        # 1\n",
    "        canvas[..., 1] = cv2.drawContours(canvas[..., 1].copy(), shrink(contours, 0.75), 0, 1, -1)\n",
    "\n",
    "        # 2\n",
    "        canvas[..., 2] = cv2.drawContours(canvas[..., 2].copy(), shrink(contours, 0.5), 0, 1, -1)            \n",
    "    return canvas\n",
    "\n",
    "\n",
    "def label_generation_operation_2(canvas):\n",
    "    canvas_1 = np.zeros((1080, 1920, 4), dtype=\"float32\")\n",
    "    canvas_2 = canvas[..., 0].copy()\n",
    "    canvas_3 = (canvas[..., 0] != 0)[..., None]\n",
    "    canvas_4 = canvas[..., 1:]\n",
    "\n",
    "    canvas_1[canvas_2 == 1, 0] = 1\n",
    "    canvas_1[canvas_2 == 2, 1] = 1\n",
    "    canvas_1[canvas_2 == 3, 2] = 1\n",
    "    canvas_1[canvas_2 == 4, 3] = 1\n",
    "\n",
    "    canvas_out = np.concatenate((canvas_1, canvas_3, canvas_4), axis=2)\n",
    "    return canvas_out\n",
    "\n"
   ]
  },
  {
   "cell_type": "code",
   "execution_count": null,
   "metadata": {
    "colab": {
     "base_uri": "https://localhost:8080/",
     "height": 1000
    },
    "id": "c-7y3OVF2k8Q",
    "outputId": "95df58fa-fcc0-4470-feb7-7b0e2d5536b9"
   },
   "outputs": [
    {
     "data": {
      "image/png": "[encoded data removed]",
      "text/plain": [
       "<Figure size 432x288 with 1 Axes>"
      ]
     },
     "metadata": {
      "needs_background": "light"
     },
     "output_type": "display_data"
    },
    {
     "data": {
      "image/png": "[encoded data removed]",
      "text/plain": [
       "<Figure size 432x288 with 1 Axes>"
      ]
     },
     "metadata": {
      "needs_background": "light"
     },
     "output_type": "display_data"
    },
    {
     "data": {
      "image/png": "[encoded data removed]",
      "text/plain": [
       "<Figure size 432x288 with 1 Axes>"
      ]
     },
     "metadata": {
      "needs_background": "light"
     },
     "output_type": "display_data"
    },
    {
     "data": {
      "image/png": "[encoded data removed]",
      "text/plain": [
       "<Figure size 432x288 with 1 Axes>"
      ]
     },
     "metadata": {
      "needs_background": "light"
     },
     "output_type": "display_data"
    },
    {
     "data": {
      "image/png": "[encoded data removed]",
      "text/plain": [
       "<Figure size 432x288 with 1 Axes>"
      ]
     },
     "metadata": {
      "needs_background": "light"
     },
     "output_type": "display_data"
    },
    {
     "data": {
      "image/png": "[encoded data removed]",
      "text/plain": [
       "<Figure size 432x288 with 1 Axes>"
      ]
     },
     "metadata": {
      "needs_background": "light"
     },
     "output_type": "display_data"
    },
    {
     "data": {
      "image/png": "[encoded data removed]",
      "text/plain": [
       "<Figure size 432x288 with 1 Axes>"
      ]
     },
     "metadata": {
      "needs_background": "light"
     },
     "output_type": "display_data"
    }
   ],
   "source": [
    "idx = np.random.randint(3002)\n",
    "data_dict = data_dict_all[idx]\n",
    "path_img = data_dict[\"file_name\"]\n",
    "\n",
    "canvas = label_generation_operation_1(data_dict_all, idx)\n",
    "canvas = label_generation_operation_2(canvas)\n",
    "canvas = cv2.resize(canvas, (910, 512))\n",
    "canvas = canvas.astype(\"bool\")\n",
    "\n",
    "set_plot_size(\"small\")\n",
    "plt.imshow(canvas[..., 0])\n",
    "plt.show()\n",
    "plt.imshow(canvas[..., 1])\n",
    "plt.show()\n",
    "plt.imshow(canvas[..., 2])\n",
    "plt.show()\n",
    "plt.imshow(canvas[..., 3])\n",
    "plt.show()\n",
    "plt.imshow(canvas[..., 4])\n",
    "plt.show()\n",
    "plt.imshow(canvas[..., 5])\n",
    "plt.show()\n",
    "plt.imshow(canvas[..., 6])\n",
    "plt.show()"
   ]
  },
  {
   "cell_type": "code",
   "execution_count": null,
   "metadata": {
    "colab": {
     "base_uri": "https://localhost:8080/"
    },
    "id": "XvmOVt0Q3vdL",
    "outputId": "e6b66225-4d0c-47ad-8b72-3100369f5b60"
   },
   "outputs": [
    {
     "name": "stdout",
     "output_type": "stream",
     "text": [
      "99\n",
      "199\n",
      "299\n",
      "399\n",
      "499\n",
      "599\n",
      "699\n",
      "799\n",
      "899\n",
      "999\n",
      "1099\n",
      "1199\n",
      "1299\n",
      "1399\n",
      "1499\n",
      "1599\n",
      "1699\n",
      "1799\n",
      "1899\n",
      "1999\n",
      "2099\n",
      "2199\n",
      "2299\n",
      "2399\n",
      "2499\n",
      "2599\n",
      "2699\n",
      "2799\n",
      "2899\n",
      "2999\n"
     ]
    }
   ],
   "source": [
    "for idx in range(3002):\n",
    "    name = str(idx).zfill(5)\n",
    "\n",
    "    data_dict = data_dict_all[idx]\n",
    "    path_img = data_dict[\"file_name\"]\n",
    "    Image.open(path_img).resize((910, 512)).save(\"./images/\" + name + \".jpg\")\n",
    "\n",
    "    canvas = label_generation_operation_1(data_dict_all, idx)\n",
    "    canvas = label_generation_operation_2(canvas)\n",
    "    canvas = cv2.resize(canvas, (910, 512))\n",
    "    canvas = canvas.astype(\"bool\")\n",
    "    np.savez_compressed(\"./labels/\" + name, canvas.astype(\"bool\"))\n",
    "\n",
    "    if (idx + 1) % 100 == 0:\n",
    "        print(idx)\n"
   ]
  },
  {
   "cell_type": "code",
   "execution_count": null,
   "metadata": {
    "id": "t17WsDIXNdPN"
   },
   "outputs": [],
   "source": [
    "!zip -rq \"./images_train.zip\" \"./images\"\n",
    "!zip -rq \"./labels_train.zip\" \"./labels\"\n",
    "\n",
    "!cp \"./images_train.zip\" \"./drive/MyDrive/cs523_project/\"\n",
    "!cp \"./labels_train.zip\" \"./drive/MyDrive/cs523_project/\""
   ]
  }
 ],
 "metadata": {
  "colab": {
   "collapsed_sections": [],
   "name": "cs523_zero_waste_part2_data_preprocessing.ipynb",
   "provenance": []
  },
  "kernelspec": {
   "display_name": "Python 3",
   "language": "python",
   "name": "python3"
  },
  "language_info": {
   "codemirror_mode": {
    "name": "ipython",
    "version": 3
   },
   "file_extension": ".py",
   "mimetype": "text/x-python",
   "name": "python",
   "nbconvert_exporter": "python",
   "pygments_lexer": "ipython3",
   "version": "3.8.5"
  }
 },
 "nbformat": 4,
 "nbformat_minor": 1
}
