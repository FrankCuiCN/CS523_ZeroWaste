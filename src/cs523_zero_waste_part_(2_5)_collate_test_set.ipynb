{
  "nbformat": 4,
  "nbformat_minor": 0,
  "metadata": {
    "colab": {
      "name": "cs523_zero_waste_part_(2_5)_collate_test_set.ipynb",
      "provenance": [],
      "collapsed_sections": []
    },
    "kernelspec": {
      "name": "python3",
      "display_name": "Python 3"
    },
    "language_info": {
      "name": "python"
    }
  },
  "cells": [
    {
      "cell_type": "code",
      "source": [
        "!pip install -q pyclipper\n",
        "!pip install -q Polygon3"
      ],
      "metadata": {
        "id": "zuSxMEY08dDB",
        "colab": {
          "base_uri": "https://localhost:8080/"
        },
        "outputId": "15a45450-e622-4ac3-f857-c2458408688b"
      },
      "execution_count": null,
      "outputs": [
        {
          "output_type": "stream",
          "name": "stdout",
          "text": [
            "\u001b[?25l\r\u001b[K     |▌                               | 10 kB 12.7 MB/s eta 0:00:01\r\u001b[K     |█                               | 20 kB 14.6 MB/s eta 0:00:01\r\u001b[K     |█▋                              | 30 kB 9.8 MB/s eta 0:00:01\r\u001b[K     |██▏                             | 40 kB 9.1 MB/s eta 0:00:01\r\u001b[K     |██▊                             | 51 kB 4.4 MB/s eta 0:00:01\r\u001b[K     |███▎                            | 61 kB 5.1 MB/s eta 0:00:01\r\u001b[K     |███▉                            | 71 kB 5.7 MB/s eta 0:00:01\r\u001b[K     |████▍                           | 81 kB 4.7 MB/s eta 0:00:01\r\u001b[K     |████▉                           | 92 kB 5.2 MB/s eta 0:00:01\r\u001b[K     |█████▍                          | 102 kB 5.0 MB/s eta 0:00:01\r\u001b[K     |██████                          | 112 kB 5.0 MB/s eta 0:00:01\r\u001b[K     |██████▌                         | 122 kB 5.0 MB/s eta 0:00:01\r\u001b[K     |███████                         | 133 kB 5.0 MB/s eta 0:00:01\r\u001b[K     |███████▋                        | 143 kB 5.0 MB/s eta 0:00:01\r\u001b[K     |████████▏                       | 153 kB 5.0 MB/s eta 0:00:01\r\u001b[K     |████████▊                       | 163 kB 5.0 MB/s eta 0:00:01\r\u001b[K     |█████████▎                      | 174 kB 5.0 MB/s eta 0:00:01\r\u001b[K     |█████████▊                      | 184 kB 5.0 MB/s eta 0:00:01\r\u001b[K     |██████████▎                     | 194 kB 5.0 MB/s eta 0:00:01\r\u001b[K     |██████████▉                     | 204 kB 5.0 MB/s eta 0:00:01\r\u001b[K     |███████████▍                    | 215 kB 5.0 MB/s eta 0:00:01\r\u001b[K     |████████████                    | 225 kB 5.0 MB/s eta 0:00:01\r\u001b[K     |████████████▌                   | 235 kB 5.0 MB/s eta 0:00:01\r\u001b[K     |█████████████                   | 245 kB 5.0 MB/s eta 0:00:01\r\u001b[K     |█████████████▋                  | 256 kB 5.0 MB/s eta 0:00:01\r\u001b[K     |██████████████▏                 | 266 kB 5.0 MB/s eta 0:00:01\r\u001b[K     |██████████████▋                 | 276 kB 5.0 MB/s eta 0:00:01\r\u001b[K     |███████████████▏                | 286 kB 5.0 MB/s eta 0:00:01\r\u001b[K     |███████████████▊                | 296 kB 5.0 MB/s eta 0:00:01\r\u001b[K     |████████████████▎               | 307 kB 5.0 MB/s eta 0:00:01\r\u001b[K     |████████████████▉               | 317 kB 5.0 MB/s eta 0:00:01\r\u001b[K     |█████████████████▍              | 327 kB 5.0 MB/s eta 0:00:01\r\u001b[K     |██████████████████              | 337 kB 5.0 MB/s eta 0:00:01\r\u001b[K     |██████████████████▌             | 348 kB 5.0 MB/s eta 0:00:01\r\u001b[K     |███████████████████             | 358 kB 5.0 MB/s eta 0:00:01\r\u001b[K     |███████████████████▌            | 368 kB 5.0 MB/s eta 0:00:01\r\u001b[K     |████████████████████            | 378 kB 5.0 MB/s eta 0:00:01\r\u001b[K     |████████████████████▋           | 389 kB 5.0 MB/s eta 0:00:01\r\u001b[K     |█████████████████████▏          | 399 kB 5.0 MB/s eta 0:00:01\r\u001b[K     |█████████████████████▊          | 409 kB 5.0 MB/s eta 0:00:01\r\u001b[K     |██████████████████████▎         | 419 kB 5.0 MB/s eta 0:00:01\r\u001b[K     |██████████████████████▉         | 430 kB 5.0 MB/s eta 0:00:01\r\u001b[K     |███████████████████████▍        | 440 kB 5.0 MB/s eta 0:00:01\r\u001b[K     |████████████████████████        | 450 kB 5.0 MB/s eta 0:00:01\r\u001b[K     |████████████████████████▍       | 460 kB 5.0 MB/s eta 0:00:01\r\u001b[K     |█████████████████████████       | 471 kB 5.0 MB/s eta 0:00:01\r\u001b[K     |█████████████████████████▌      | 481 kB 5.0 MB/s eta 0:00:01\r\u001b[K     |██████████████████████████      | 491 kB 5.0 MB/s eta 0:00:01\r\u001b[K     |██████████████████████████▋     | 501 kB 5.0 MB/s eta 0:00:01\r\u001b[K     |███████████████████████████▏    | 512 kB 5.0 MB/s eta 0:00:01\r\u001b[K     |███████████████████████████▊    | 522 kB 5.0 MB/s eta 0:00:01\r\u001b[K     |████████████████████████████▎   | 532 kB 5.0 MB/s eta 0:00:01\r\u001b[K     |████████████████████████████▊   | 542 kB 5.0 MB/s eta 0:00:01\r\u001b[K     |█████████████████████████████▎  | 552 kB 5.0 MB/s eta 0:00:01\r\u001b[K     |█████████████████████████████▉  | 563 kB 5.0 MB/s eta 0:00:01\r\u001b[K     |██████████████████████████████▍ | 573 kB 5.0 MB/s eta 0:00:01\r\u001b[K     |███████████████████████████████ | 583 kB 5.0 MB/s eta 0:00:01\r\u001b[K     |███████████████████████████████▌| 593 kB 5.0 MB/s eta 0:00:01\r\u001b[K     |████████████████████████████████| 603 kB 5.0 MB/s \n",
            "\u001b[?25h  Building wheel for Polygon3 (setup.py) ... \u001b[?25l\u001b[?25hdone\n"
          ]
        }
      ]
    },
    {
      "cell_type": "code",
      "source": [
        "!cp \"./drive/MyDrive/shared/zerowaste-f-final.zip\" ./\n",
        "!unzip -q \"./zerowaste-f-final.zip\"\n",
        "\n",
        "import os\n",
        "os.mkdir(\"./images\")\n",
        "os.mkdir(\"./labels\")"
      ],
      "metadata": {
        "id": "XZXnYaX01dep"
      },
      "execution_count": null,
      "outputs": []
    },
    {
      "cell_type": "code",
      "source": [
        "import os\n",
        "import numpy as np\n",
        "import cv2\n",
        "import json\n",
        "import random\n",
        "import matplotlib.pyplot as plt\n",
        "import Polygon as plg\n",
        "import pyclipper\n",
        "import pickle\n",
        "\n",
        "from PIL import Image\n",
        "\n",
        "\n",
        "# set plot size\n",
        "def set_plot_size(name):\n",
        "    # (w, h)\n",
        "    if name == \"wide\":\n",
        "        plt.rcParams[\"figure.figsize\"] = (30, 4)\n",
        "        return\n",
        "    if name == \"big\":\n",
        "        plt.rcParams[\"figure.figsize\"] = (30, 10)  # (w, h)\n",
        "        return\n",
        "    plt.rcParams[\"figure.figsize\"] = (6, 4)  # normal"
      ],
      "metadata": {
        "id": "rVNnqIJp2pxE"
      },
      "execution_count": null,
      "outputs": []
    },
    {
      "cell_type": "code",
      "source": [
        "# ----- #\n",
        "# get data_dict_all\n",
        "# ----- #\n",
        "def json2dict(path):\n",
        "    with open(path) as f:\n",
        "        return json.load(f)\n",
        "     \n",
        "\n",
        "labels_test = json2dict(\"./splits_final_deblurred/test/labels.json\")\n",
        "\n",
        "img_all = labels_test[\"images\"]\n",
        "anno_raw = labels_test[\"annotations\"]\n",
        "anno_all = [list() for idx in range(929)]\n",
        "\n",
        "for idx in range(len(anno_raw)):\n",
        "    tmp = anno_raw[idx]\n",
        "    idx_img = tmp[\"image_id\"]\n",
        "    anno_all[idx_img].append(tmp)\n",
        "\n",
        "\n",
        "def get_zerowaste_dicts():\n",
        "    dataset_dicts = []\n",
        "    for idx0 in range(len(img_all)):\n",
        "        record = dict()\n",
        "        tmp = img_all[idx0]\n",
        "        record[\"file_name\"] = os.path.join(\"./splits_final_deblurred/test/data\", tmp[\"file_name\"])\n",
        "        record[\"image_id\"] = tmp[\"id\"]\n",
        "        record[\"width\"] = tmp[\"width\"]\n",
        "        record[\"height\"] = tmp[\"height\"]\n",
        "        \n",
        "        tmp_tmp = anno_all[idx0]\n",
        "        objs = list()\n",
        "        for item in tmp_tmp:\n",
        "            obj = dict()\n",
        "            obj[\"bbox\"] = item[\"bbox\"]\n",
        "            obj[\"bbox_mode\"] = \"XYWH_ABS\"\n",
        "            obj[\"segmentation\"] = item[\"segmentation\"]\n",
        "            obj[\"category_id\"] = item[\"category_id\"] - 1\n",
        "            objs.append(obj)\n",
        "        record[\"annotations\"] = objs\n",
        "        dataset_dicts.append(record)\n",
        "    return dataset_dicts\n",
        "\n",
        "\n",
        "data_dict_all = get_zerowaste_dicts()"
      ],
      "metadata": {
        "id": "1_j3BbaY-v4t"
      },
      "execution_count": null,
      "outputs": []
    },
    {
      "cell_type": "code",
      "source": [
        "for idx0 in range(929):  # 929\n",
        "    name = str(idx0).zfill(5)\n",
        "\n",
        "    data_dict = data_dict_all[idx0]\n",
        "    path_img = data_dict[\"file_name\"]\n",
        "    Image.open(path_img).resize((910, 512)).save(\"./images/\" + name + \".jpg\")\n",
        "\n",
        "    anno_all = data_dict[\"annotations\"]\n",
        "    out = []\n",
        "    for idx1 in range(len(anno_all)):\n",
        "        anno = anno_all[idx1]\n",
        "        out.append((anno[\"segmentation\"], anno[\"category_id\"]))\n",
        "        \n",
        "    with open(\"./labels/\" + name + \".pkl\", 'wb') as f:\n",
        "        pickle.dump(out, f)\n",
        "\n",
        "\n",
        "    if (idx0 + 1) % 100 == 0:\n",
        "        print(idx0)\n"
      ],
      "metadata": {
        "colab": {
          "base_uri": "https://localhost:8080/"
        },
        "id": "OZ8UphTbnDmu",
        "outputId": "71a91790-cacc-4037-9431-50a7a5e0933e"
      },
      "execution_count": null,
      "outputs": [
        {
          "output_type": "stream",
          "name": "stdout",
          "text": [
            "99\n",
            "199\n",
            "299\n",
            "399\n",
            "499\n",
            "599\n",
            "699\n",
            "799\n",
            "899\n"
          ]
        }
      ]
    },
    {
      "cell_type": "code",
      "source": [
        "!zip -rq \"./images_test.zip\" \"./images\"\n",
        "!zip -rq \"./labels_test.zip\" \"./labels\"\n",
        "\n",
        "!cp \"./images_test.zip\" \"./drive/MyDrive/cs523_project/\"\n",
        "!cp \"./labels_test.zip\" \"./drive/MyDrive/cs523_project/\""
      ],
      "metadata": {
        "id": "t17WsDIXNdPN"
      },
      "execution_count": null,
      "outputs": []
    }
  ]
}